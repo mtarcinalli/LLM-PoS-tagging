{
 "cells": [
  {
   "cell_type": "code",
   "execution_count": 60,
   "id": "3f791e38-a2d4-4a62-85ee-f6e9f082a853",
   "metadata": {},
   "outputs": [],
   "source": [
    "import json\n",
    "from sklearn.metrics import f1_score, classification_report"
   ]
  },
  {
   "cell_type": "markdown",
   "id": "63380728-242a-4f9f-a2b5-abebe87fa9d8",
   "metadata": {},
   "source": [
    "# Search for optimal temperature"
   ]
  },
  {
   "cell_type": "code",
   "execution_count": 15,
   "id": "7456a46e-683e-4775-a894-5f75e9d35ce7",
   "metadata": {},
   "outputs": [
    {
     "data": {
      "text/plain": [
       "315"
      ]
     },
     "execution_count": 15,
     "metadata": {},
     "output_type": "execute_result"
    }
   ],
   "source": [
    "f = open('resultados/gold.json')\n",
    "gold = json.load(f)\n",
    "gold = gold[0:315]\n",
    "len(gold)"
   ]
  },
  {
   "cell_type": "code",
   "execution_count": 26,
   "id": "e973dfbf-cffd-4741-9c6e-c0d2136f7d4e",
   "metadata": {},
   "outputs": [
    {
     "name": "stdout",
     "output_type": "stream",
     "text": [
      "gpt ; 0 ; 0.92\n",
      "gpt ; 0.1 ; 0.91\n",
      "gpt ; 0.2 ; 0.9\n",
      "gpt ; 0.3 ; 0.9\n",
      "gpt ; 0.4 ; 0.89\n",
      "gpt ; 0.5 ; 0.91\n",
      "gpt ; 0.6 ; 0.91\n",
      "gpt ; 0.7 ; 0.91\n",
      "gpt ; 0.8 ; 0.84\n",
      "gpt ; 0.9 ; 0.84\n",
      "llama ; 0 ; 0.55\n",
      "llama ; 0.1 ; 0.63\n",
      "llama ; 0.2 ; 0.65\n",
      "llama ; 0.3 ; 0.55\n",
      "llama ; 0.4 ; 0.62\n",
      "llama ; 0.5 ; 0.59\n",
      "llama ; 0.6 ; 0.63\n",
      "llama ; 0.7 ; 0.52\n",
      "llama ; 0.8 ; 0.55\n",
      "llama ; 0.9 ; 0.39\n",
      "maritaca ; 0 ; 0.29\n",
      "maritaca ; 0.1 ; 0.31\n",
      "maritaca ; 0.2 ; 0.27\n",
      "maritaca ; 0.3 ; 0.31\n",
      "maritaca ; 0.4 ; 0.24\n",
      "maritaca ; 0.5 ; 0.21\n",
      "maritaca ; 0.6 ; 0.29\n",
      "maritaca ; 0.7 ; 0.26\n",
      "maritaca ; 0.8 ; 0.18\n",
      "maritaca ; 0.9 ; 0.17\n"
     ]
    }
   ],
   "source": [
    "modelFiles = ['gpt_test_t', 'llama7B_test_t', 'maritaca_test2_t']\n",
    "models = ['gpt', 'llama', 'maritaca']\n",
    "for model, modelFile in zip(models, modelFiles):\n",
    "    for temp in range(0, 10):\n",
    "        if temp: temp = temp / 10\n",
    "        fileName = f'resultados/{modelFile}{temp}.json'\n",
    "        #print(fileName)\n",
    "        f = open(fileName)\n",
    "        pred = json.load(f)\n",
    "        #print(len(pred))\n",
    "        f1 = f1_score(gold, pred, average='macro')\n",
    "        print(model, ';', temp,';',  round(f1, 2))"
   ]
  },
  {
   "cell_type": "markdown",
   "id": "10e42166-49b0-44db-97b4-95f5ce661ac7",
   "metadata": {},
   "source": [
    "# Final Experiment"
   ]
  },
  {
   "cell_type": "code",
   "execution_count": 51,
   "id": "8a0aaf79-5873-4d3a-8a54-4e1683acf4dd",
   "metadata": {},
   "outputs": [
    {
     "data": {
      "text/plain": [
       "18690"
      ]
     },
     "execution_count": 51,
     "metadata": {},
     "output_type": "execute_result"
    }
   ],
   "source": [
    "f = open('resultados/gold.json')\n",
    "gold = json.load(f)\n",
    "len(gold)"
   ]
  },
  {
   "cell_type": "code",
   "execution_count": 56,
   "id": "3a86ed01-1aae-454f-b3dc-d74168634619",
   "metadata": {},
   "outputs": [
    {
     "name": "stdout",
     "output_type": "stream",
     "text": [
      "18690\n"
     ]
    }
   ],
   "source": [
    "with open(f'resultados/gpt_t0.json', 'r') as f:\n",
    "    gptPred = json.load(f)\n",
    "print(len(gptPred))"
   ]
  },
  {
   "cell_type": "code",
   "execution_count": 54,
   "id": "cdac522a-2ea1-46d4-a23f-a5cfa98c8501",
   "metadata": {},
   "outputs": [
    {
     "name": "stdout",
     "output_type": "stream",
     "text": [
      "18690\n"
     ]
    }
   ],
   "source": [
    "with open(f'resultados/maritaca2_temp0.1.json', 'r') as f:\n",
    "    maritacaPred = json.load(f)\n",
    "print(len(maritacaPred))"
   ]
  },
  {
   "cell_type": "code",
   "execution_count": 55,
   "id": "23d6318b-be08-4634-8973-f0d36687e8c6",
   "metadata": {},
   "outputs": [
    {
     "name": "stdout",
     "output_type": "stream",
     "text": [
      "18690\n"
     ]
    }
   ],
   "source": [
    "with open(f'resultados/llama7B_t0.2.json', 'r') as f:\n",
    "    llamaPred = json.load(f)\n",
    "print(len(llamaPred))"
   ]
  },
  {
   "cell_type": "markdown",
   "id": "ca184e11-fc35-4190-b0ec-389f8f83f40e",
   "metadata": {},
   "source": [
    "## GPT"
   ]
  },
  {
   "cell_type": "code",
   "execution_count": 61,
   "id": "64dc06c1-1091-4b90-86f1-0590649dc186",
   "metadata": {},
   "outputs": [
    {
     "name": "stdout",
     "output_type": "stream",
     "text": [
      "              precision    recall  f1-score   support\n",
      "\n",
      "           \"       0.00      0.00      0.00         0\n",
      "           (       0.00      0.00      0.00         0\n",
      "           )       0.00      0.00      0.00         0\n",
      "         ADJ       0.82      0.97      0.89       996\n",
      "         ADP       0.85      0.93      0.89      2943\n",
      "         ADV       0.91      0.87      0.89       759\n",
      "         AUX       0.79      0.89      0.84       592\n",
      "       CCONJ       0.99      0.95      0.97       497\n",
      "         DET       0.91      0.94      0.93      2880\n",
      "        INTJ       0.75      1.00      0.86         3\n",
      "        NOUN       0.98      0.96      0.97      3757\n",
      "         NUM       0.96      0.87      0.91       364\n",
      "        None       0.83      0.58      0.68      1208\n",
      "        PRON       0.81      0.78      0.80       771\n",
      "       PROPN       0.98      0.93      0.95      1290\n",
      "       PUNCT       1.00      0.87      0.93       222\n",
      "       SCONJ       0.65      0.97      0.78       277\n",
      "         SYM       1.00      0.95      0.97        74\n",
      "        VERB       0.95      0.91      0.93      2024\n",
      "           X       0.00      0.00      0.00        33\n",
      "\n",
      "    accuracy                           0.90     18690\n",
      "   macro avg       0.71      0.72      0.71     18690\n",
      "weighted avg       0.91      0.90      0.90     18690\n",
      "\n"
     ]
    },
    {
     "name": "stderr",
     "output_type": "stream",
     "text": [
      "/home/mateus.machado/venvs/propor/lib/python3.9/site-packages/sklearn/metrics/_classification.py:1469: UndefinedMetricWarning: Precision and F-score are ill-defined and being set to 0.0 in labels with no predicted samples. Use `zero_division` parameter to control this behavior.\n",
      "  _warn_prf(average, modifier, msg_start, len(result))\n",
      "/home/mateus.machado/venvs/propor/lib/python3.9/site-packages/sklearn/metrics/_classification.py:1469: UndefinedMetricWarning: Recall and F-score are ill-defined and being set to 0.0 in labels with no true samples. Use `zero_division` parameter to control this behavior.\n",
      "  _warn_prf(average, modifier, msg_start, len(result))\n",
      "/home/mateus.machado/venvs/propor/lib/python3.9/site-packages/sklearn/metrics/_classification.py:1469: UndefinedMetricWarning: Precision and F-score are ill-defined and being set to 0.0 in labels with no predicted samples. Use `zero_division` parameter to control this behavior.\n",
      "  _warn_prf(average, modifier, msg_start, len(result))\n",
      "/home/mateus.machado/venvs/propor/lib/python3.9/site-packages/sklearn/metrics/_classification.py:1469: UndefinedMetricWarning: Recall and F-score are ill-defined and being set to 0.0 in labels with no true samples. Use `zero_division` parameter to control this behavior.\n",
      "  _warn_prf(average, modifier, msg_start, len(result))\n",
      "/home/mateus.machado/venvs/propor/lib/python3.9/site-packages/sklearn/metrics/_classification.py:1469: UndefinedMetricWarning: Precision and F-score are ill-defined and being set to 0.0 in labels with no predicted samples. Use `zero_division` parameter to control this behavior.\n",
      "  _warn_prf(average, modifier, msg_start, len(result))\n",
      "/home/mateus.machado/venvs/propor/lib/python3.9/site-packages/sklearn/metrics/_classification.py:1469: UndefinedMetricWarning: Recall and F-score are ill-defined and being set to 0.0 in labels with no true samples. Use `zero_division` parameter to control this behavior.\n",
      "  _warn_prf(average, modifier, msg_start, len(result))\n"
     ]
    }
   ],
   "source": [
    "print(classification_report(gold, gptPred))"
   ]
  },
  {
   "cell_type": "code",
   "execution_count": 114,
   "id": "d1fd88b1-2a49-4e55-8525-daf3166d2fc9",
   "metadata": {},
   "outputs": [
    {
     "name": "stdout",
     "output_type": "stream",
     "text": [
      "              precision    recall  f1-score   support\n",
      "\n",
      "         ADJ       0.82      0.97      0.89       996\n",
      "         ADP       0.85      0.93      0.89      2943\n",
      "         ADV       0.91      0.87      0.89       759\n",
      "         AUX       0.79      0.89      0.84       592\n",
      "       CCONJ       0.99      0.95      0.97       497\n",
      "         DET       0.91      0.94      0.93      2880\n",
      "        INTJ       0.75      1.00      0.86         3\n",
      "        NOUN       0.98      0.96      0.97      3757\n",
      "         NUM       0.96      0.87      0.91       364\n",
      "        None       0.83      0.58      0.68      1208\n",
      "        PRON       0.81      0.78      0.80       771\n",
      "       PROPN       0.98      0.93      0.95      1290\n",
      "       PUNCT       1.00      0.92      0.96       222\n",
      "       SCONJ       0.65      0.97      0.78       277\n",
      "         SYM       1.00      0.95      0.97        74\n",
      "        VERB       0.95      0.91      0.93      2024\n",
      "           X       0.00      0.00      0.00        33\n",
      "\n",
      "    accuracy                           0.90     18690\n",
      "   macro avg       0.83      0.85      0.84     18690\n",
      "weighted avg       0.91      0.90      0.90     18690\n",
      "\n"
     ]
    },
    {
     "name": "stderr",
     "output_type": "stream",
     "text": [
      "/home/mateus.machado/venvs/propor/lib/python3.9/site-packages/sklearn/metrics/_classification.py:1469: UndefinedMetricWarning: Precision and F-score are ill-defined and being set to 0.0 in labels with no predicted samples. Use `zero_division` parameter to control this behavior.\n",
      "  _warn_prf(average, modifier, msg_start, len(result))\n",
      "/home/mateus.machado/venvs/propor/lib/python3.9/site-packages/sklearn/metrics/_classification.py:1469: UndefinedMetricWarning: Precision and F-score are ill-defined and being set to 0.0 in labels with no predicted samples. Use `zero_division` parameter to control this behavior.\n",
      "  _warn_prf(average, modifier, msg_start, len(result))\n",
      "/home/mateus.machado/venvs/propor/lib/python3.9/site-packages/sklearn/metrics/_classification.py:1469: UndefinedMetricWarning: Precision and F-score are ill-defined and being set to 0.0 in labels with no predicted samples. Use `zero_division` parameter to control this behavior.\n",
      "  _warn_prf(average, modifier, msg_start, len(result))\n"
     ]
    }
   ],
   "source": [
    "gptPredCorrigido = []\n",
    "for tag in gptPred:\n",
    "    if tag in ['\"','(',')']:\n",
    "        tag = 'PUNCT'\n",
    "    gptPredCorrigido.append(tag)\n",
    "print(classification_report(gold, gptPredCorrigido))"
   ]
  },
  {
   "cell_type": "code",
   "execution_count": 117,
   "id": "d1b61bd6-bf3d-4a90-8d5b-954780b16567",
   "metadata": {},
   "outputs": [
    {
     "name": "stdout",
     "output_type": "stream",
     "text": [
      "tag;precision;recall;f measure;support\n",
      "ADJ;0.82;0.97;0.89;996\n",
      "ADP;0.85;0.93;0.89;2943\n",
      "ADV;0.91;0.87;0.89;759\n",
      "AUX;0.79;0.89;0.84;592\n",
      "CCONJ;0.99;0.95;0.97;497\n",
      "DET;0.91;0.94;0.93;2880\n",
      "INTJ;0.75;1.0;0.86;3\n",
      "NOUN;0.98;0.96;0.97;3757\n",
      "NUM;0.96;0.87;0.91;364\n",
      "None;0.83;0.58;0.68;1208\n",
      "PRON;0.81;0.78;0.8;771\n",
      "PROPN;0.98;0.93;0.95;1290\n",
      "PUNCT;1.0;0.92;0.96;222\n",
      "SCONJ;0.65;0.97;0.78;277\n",
      "SYM;1.0;0.95;0.97;74\n",
      "VERB;0.95;0.91;0.93;2024\n",
      "X;0.0;0.0;0.0;33\n",
      "macro avg;0.83;0.85;0.84;18690\n"
     ]
    },
    {
     "name": "stderr",
     "output_type": "stream",
     "text": [
      "/home/mateus.machado/venvs/propor/lib/python3.9/site-packages/sklearn/metrics/_classification.py:1469: UndefinedMetricWarning: Precision and F-score are ill-defined and being set to 0.0 in labels with no predicted samples. Use `zero_division` parameter to control this behavior.\n",
      "  _warn_prf(average, modifier, msg_start, len(result))\n",
      "/home/mateus.machado/venvs/propor/lib/python3.9/site-packages/sklearn/metrics/_classification.py:1469: UndefinedMetricWarning: Precision and F-score are ill-defined and being set to 0.0 in labels with no predicted samples. Use `zero_division` parameter to control this behavior.\n",
      "  _warn_prf(average, modifier, msg_start, len(result))\n",
      "/home/mateus.machado/venvs/propor/lib/python3.9/site-packages/sklearn/metrics/_classification.py:1469: UndefinedMetricWarning: Precision and F-score are ill-defined and being set to 0.0 in labels with no predicted samples. Use `zero_division` parameter to control this behavior.\n",
      "  _warn_prf(average, modifier, msg_start, len(result))\n"
     ]
    }
   ],
   "source": [
    "print('tag;precision;recall;f measure;support')\n",
    "report = classification_report(gold, gptPredCorrigido, output_dict=True)\n",
    "for rep in report:\n",
    "    if rep in ['accuracy','weighted avg']: continue\n",
    "    print(f'{rep};{round(report[rep][\"precision\"],2)};{round(report[rep][\"recall\"],2)};{round(report[rep][\"f1-score\"],2)};{round(report[rep][\"support\"])}')"
   ]
  },
  {
   "cell_type": "markdown",
   "id": "b14495dc-22e5-42c3-b7fe-4213edf5ab03",
   "metadata": {},
   "source": [
    "## Llama results"
   ]
  },
  {
   "cell_type": "code",
   "execution_count": 62,
   "id": "4aea9a3b-b7ce-48a5-942c-61a6f01619e6",
   "metadata": {},
   "outputs": [
    {
     "name": "stdout",
     "output_type": "stream",
     "text": [
      "              precision    recall  f1-score   support\n",
      "\n",
      "         ADJ       0.63      0.61      0.62       996\n",
      "         ADP       0.82      0.73      0.77      2943\n",
      "         ADV       0.63      0.68      0.65       759\n",
      "         AUX       0.58      0.63      0.60       592\n",
      "       CCONJ       1.00      0.70      0.82       497\n",
      "        CONJ       0.00      0.00      0.00         0\n",
      "         DET       0.74      0.81      0.77      2880\n",
      "        INTJ       0.00      0.00      0.00         3\n",
      "        NOUN       0.92      0.69      0.79      3757\n",
      "         NUM       0.58      0.70      0.63       364\n",
      "        None       0.20      0.45      0.28      1208\n",
      "        PRON       0.59      0.39      0.47       771\n",
      "       PROPN       0.73      0.78      0.75      1290\n",
      "       PUNCT       0.82      0.40      0.53       222\n",
      "       SCONJ       0.49      0.28      0.35       277\n",
      "        SQUO       0.00      0.00      0.00         0\n",
      "         SYM       0.98      0.70      0.82        74\n",
      "        VERB       0.84      0.81      0.82      2024\n",
      "           X       0.00      0.00      0.00        33\n",
      "\n",
      "    accuracy                           0.69     18690\n",
      "   macro avg       0.55      0.49      0.51     18690\n",
      "weighted avg       0.74      0.69      0.71     18690\n",
      "\n"
     ]
    },
    {
     "name": "stderr",
     "output_type": "stream",
     "text": [
      "/home/mateus.machado/venvs/propor/lib/python3.9/site-packages/sklearn/metrics/_classification.py:1469: UndefinedMetricWarning: Precision and F-score are ill-defined and being set to 0.0 in labels with no predicted samples. Use `zero_division` parameter to control this behavior.\n",
      "  _warn_prf(average, modifier, msg_start, len(result))\n",
      "/home/mateus.machado/venvs/propor/lib/python3.9/site-packages/sklearn/metrics/_classification.py:1469: UndefinedMetricWarning: Recall and F-score are ill-defined and being set to 0.0 in labels with no true samples. Use `zero_division` parameter to control this behavior.\n",
      "  _warn_prf(average, modifier, msg_start, len(result))\n",
      "/home/mateus.machado/venvs/propor/lib/python3.9/site-packages/sklearn/metrics/_classification.py:1469: UndefinedMetricWarning: Precision and F-score are ill-defined and being set to 0.0 in labels with no predicted samples. Use `zero_division` parameter to control this behavior.\n",
      "  _warn_prf(average, modifier, msg_start, len(result))\n",
      "/home/mateus.machado/venvs/propor/lib/python3.9/site-packages/sklearn/metrics/_classification.py:1469: UndefinedMetricWarning: Recall and F-score are ill-defined and being set to 0.0 in labels with no true samples. Use `zero_division` parameter to control this behavior.\n",
      "  _warn_prf(average, modifier, msg_start, len(result))\n",
      "/home/mateus.machado/venvs/propor/lib/python3.9/site-packages/sklearn/metrics/_classification.py:1469: UndefinedMetricWarning: Precision and F-score are ill-defined and being set to 0.0 in labels with no predicted samples. Use `zero_division` parameter to control this behavior.\n",
      "  _warn_prf(average, modifier, msg_start, len(result))\n",
      "/home/mateus.machado/venvs/propor/lib/python3.9/site-packages/sklearn/metrics/_classification.py:1469: UndefinedMetricWarning: Recall and F-score are ill-defined and being set to 0.0 in labels with no true samples. Use `zero_division` parameter to control this behavior.\n",
      "  _warn_prf(average, modifier, msg_start, len(result))\n"
     ]
    }
   ],
   "source": [
    "print(classification_report(gold, llamaPred))"
   ]
  },
  {
   "cell_type": "code",
   "execution_count": 115,
   "id": "363b295e-1cf5-409f-a1f0-17f3d20365b0",
   "metadata": {},
   "outputs": [
    {
     "name": "stdout",
     "output_type": "stream",
     "text": [
      "              precision    recall  f1-score   support\n",
      "\n",
      "         ADJ       0.63      0.61      0.62       996\n",
      "         ADP       0.82      0.73      0.77      2943\n",
      "         ADV       0.63      0.68      0.65       759\n",
      "         AUX       0.58      0.63      0.60       592\n",
      "       CCONJ       0.98      0.74      0.84       497\n",
      "         DET       0.74      0.81      0.77      2880\n",
      "        INTJ       0.00      0.00      0.00         3\n",
      "        NOUN       0.92      0.69      0.79      3757\n",
      "         NUM       0.58      0.70      0.63       364\n",
      "        None       0.20      0.45      0.28      1208\n",
      "        PRON       0.59      0.39      0.47       771\n",
      "       PROPN       0.73      0.78      0.75      1290\n",
      "       PUNCT       0.82      0.40      0.53       222\n",
      "       SCONJ       0.49      0.28      0.35       277\n",
      "         SYM       0.98      0.70      0.82        74\n",
      "        VERB       0.84      0.81      0.82      2024\n",
      "           X       0.00      0.00      0.00        33\n",
      "\n",
      "    accuracy                           0.69     18690\n",
      "   macro avg       0.62      0.55      0.57     18690\n",
      "weighted avg       0.74      0.69      0.71     18690\n",
      "\n"
     ]
    },
    {
     "name": "stderr",
     "output_type": "stream",
     "text": [
      "/home/mateus.machado/venvs/propor/lib/python3.9/site-packages/sklearn/metrics/_classification.py:1469: UndefinedMetricWarning: Precision and F-score are ill-defined and being set to 0.0 in labels with no predicted samples. Use `zero_division` parameter to control this behavior.\n",
      "  _warn_prf(average, modifier, msg_start, len(result))\n",
      "/home/mateus.machado/venvs/propor/lib/python3.9/site-packages/sklearn/metrics/_classification.py:1469: UndefinedMetricWarning: Precision and F-score are ill-defined and being set to 0.0 in labels with no predicted samples. Use `zero_division` parameter to control this behavior.\n",
      "  _warn_prf(average, modifier, msg_start, len(result))\n",
      "/home/mateus.machado/venvs/propor/lib/python3.9/site-packages/sklearn/metrics/_classification.py:1469: UndefinedMetricWarning: Precision and F-score are ill-defined and being set to 0.0 in labels with no predicted samples. Use `zero_division` parameter to control this behavior.\n",
      "  _warn_prf(average, modifier, msg_start, len(result))\n"
     ]
    }
   ],
   "source": [
    "llamaPredCorrigido = []\n",
    "for tag in llamaPred:\n",
    "    if tag in ['CONJ']:\n",
    "        tag = 'CCONJ'\n",
    "    if tag in ['SQUO']:\n",
    "        tag = 'None'\n",
    "    llamaPredCorrigido.append(tag)\n",
    "print(classification_report(gold, llamaPredCorrigido))"
   ]
  },
  {
   "cell_type": "code",
   "execution_count": 116,
   "id": "56cceedb-fa6d-4c88-861f-754f52a89ee4",
   "metadata": {},
   "outputs": [
    {
     "name": "stdout",
     "output_type": "stream",
     "text": [
      "tag;precision;recall;f measure;support\n",
      "ADJ;0.63;0.61;0.62;996\n",
      "ADP;0.82;0.73;0.77;2943\n",
      "ADV;0.63;0.68;0.65;759\n",
      "AUX;0.58;0.63;0.6;592\n",
      "CCONJ;0.98;0.74;0.84;497\n",
      "DET;0.74;0.81;0.77;2880\n",
      "INTJ;0.0;0.0;0.0;3\n",
      "NOUN;0.92;0.69;0.79;3757\n",
      "NUM;0.58;0.7;0.63;364\n",
      "None;0.2;0.45;0.28;1208\n",
      "PRON;0.59;0.39;0.47;771\n",
      "PROPN;0.73;0.78;0.75;1290\n",
      "PUNCT;0.82;0.4;0.53;222\n",
      "SCONJ;0.49;0.28;0.35;277\n",
      "SYM;0.98;0.7;0.82;74\n",
      "VERB;0.84;0.81;0.82;2024\n",
      "X;0.0;0.0;0.0;33\n",
      "macro avg;0.62;0.55;0.57;18690\n"
     ]
    },
    {
     "name": "stderr",
     "output_type": "stream",
     "text": [
      "/home/mateus.machado/venvs/propor/lib/python3.9/site-packages/sklearn/metrics/_classification.py:1469: UndefinedMetricWarning: Precision and F-score are ill-defined and being set to 0.0 in labels with no predicted samples. Use `zero_division` parameter to control this behavior.\n",
      "  _warn_prf(average, modifier, msg_start, len(result))\n",
      "/home/mateus.machado/venvs/propor/lib/python3.9/site-packages/sklearn/metrics/_classification.py:1469: UndefinedMetricWarning: Precision and F-score are ill-defined and being set to 0.0 in labels with no predicted samples. Use `zero_division` parameter to control this behavior.\n",
      "  _warn_prf(average, modifier, msg_start, len(result))\n",
      "/home/mateus.machado/venvs/propor/lib/python3.9/site-packages/sklearn/metrics/_classification.py:1469: UndefinedMetricWarning: Precision and F-score are ill-defined and being set to 0.0 in labels with no predicted samples. Use `zero_division` parameter to control this behavior.\n",
      "  _warn_prf(average, modifier, msg_start, len(result))\n"
     ]
    }
   ],
   "source": [
    "print('tag;precision;recall;f measure;support')\n",
    "report = classification_report(gold, llamaPredCorrigido, output_dict=True)\n",
    "for rep in report:\n",
    "    if rep in ['accuracy','weighted avg']: continue\n",
    "    print(f'{rep};{round(report[rep][\"precision\"],2)};{round(report[rep][\"recall\"],2)};{round(report[rep][\"f1-score\"],2)};{round(report[rep][\"support\"])}')"
   ]
  },
  {
   "cell_type": "markdown",
   "id": "fa68311f-d5ff-4e36-a8d3-bd7467c7f6db",
   "metadata": {},
   "source": [
    "## Maritaca results"
   ]
  },
  {
   "cell_type": "code",
   "execution_count": 63,
   "id": "47bf72f8-7c5d-43e2-bed0-f436927fab32",
   "metadata": {},
   "outputs": [
    {
     "name": "stdout",
     "output_type": "stream",
     "text": [
      "              precision    recall  f1-score   support\n",
      "\n",
      "           '       0.00      0.00      0.00         0\n",
      "           (       0.00      0.00      0.00         0\n",
      "           ,       0.00      0.00      0.00         0\n",
      "         3Sg       0.00      0.00      0.00         0\n",
      "           :       0.00      0.00      0.00         0\n",
      "         ADJ       0.75      0.60      0.67       996\n",
      "        ADJ,       0.00      0.00      0.00         0\n",
      "        ADJP       0.00      0.00      0.00         0\n",
      "         ADN       0.00      0.00      0.00         0\n",
      "         ADP       0.67      0.45      0.53      2943\n",
      "        ADP,       0.00      0.00      0.00         0\n",
      "         ADV       0.48      0.61      0.54       759\n",
      "        ADV,       0.00      0.00      0.00         0\n",
      "         ART       0.00      0.00      0.00         0\n",
      "         AUX       0.50      0.25      0.33       592\n",
      "        AUX,       0.00      0.00      0.00         0\n",
      "          BE       0.00      0.00      0.00         0\n",
      "         BE)       0.00      0.00      0.00         0\n",
      "        BEAR       0.00      0.00      0.00         0\n",
      "        BEEN       0.00      0.00      0.00         0\n",
      "       BEING       0.00      0.00      0.00         0\n",
      "         BEZ       0.00      0.00      0.00         0\n",
      "       CAUSA       0.00      0.00      0.00         0\n",
      "       CCONJ       0.86      0.04      0.07       497\n",
      "        COMO       0.00      0.00      0.00         0\n",
      "        COMP       0.00      0.00      0.00         0\n",
      "        COND       0.00      0.00      0.00         0\n",
      "        CONJ       0.00      0.00      0.00         0\n",
      "       CONJ,       0.00      0.00      0.00         0\n",
      "       COORD       0.00      0.00      0.00         0\n",
      "         DEP       0.00      0.00      0.00         0\n",
      "         DET       0.57      0.46      0.51      2880\n",
      "        DET,       0.00      0.00      0.00         0\n",
      "         EST       0.00      0.00      0.00         0\n",
      "      EXCEPT       0.00      0.00      0.00         0\n",
      "       EXIST       0.00      0.00      0.00         0\n",
      "      EXISTE       0.00      0.00      0.00         0\n",
      "         HAS       0.00      0.00      0.00         0\n",
      "        HAVE       0.00      0.00      0.00         0\n",
      "         IMP       0.00      0.00      0.00         0\n",
      "         INF       0.00      0.00      0.00         0\n",
      "         INT       0.00      0.00      0.00         0\n",
      "        INTJ       0.67      0.67      0.67         3\n",
      "         LOC       0.00      0.00      0.00         0\n",
      "        LOC,       0.00      0.00      0.00         0\n",
      "         MOD       0.00      0.00      0.00         0\n",
      "       MONTH       0.00      0.00      0.00         0\n",
      "         NEG       0.00      0.00      0.00         0\n",
      "      NENHUM       0.00      0.00      0.00         0\n",
      "         NNE       0.00      0.00      0.00         0\n",
      "        NOUN       0.87      0.66      0.75      3757\n",
      "       NOUN\"       0.00      0.00      0.00         0\n",
      "       NOUN,       0.00      0.00      0.00         0\n",
      "       NOUN.       0.00      0.00      0.00         0\n",
      "      NOUN.\n",
      "       0.00      0.00      0.00         0\n",
      "       NOUN:       0.00      0.00      0.00         0\n",
      "         NUM       0.52      0.68      0.59       364\n",
      "        None       0.05      0.28      0.09      1208\n",
      "         Não       0.00      0.00      0.00         0\n",
      "        PARA       0.00      0.00      0.00         0\n",
      "  PARENTESES       0.00      0.00      0.00         0\n",
      "          PL       0.00      0.00      0.00         0\n",
      "        PLUR       0.00      0.00      0.00         0\n",
      "        PODE       0.00      0.00      0.00         0\n",
      "         POR       0.00      0.00      0.00         0\n",
      "        PORQ       0.00      0.00      0.00         0\n",
      "      PORQUE       0.00      0.00      0.00         0\n",
      "       PPOSS       0.00      0.00      0.00         0\n",
      "        PREP       0.00      0.00      0.00         0\n",
      "        PRON       0.69      0.22      0.33       771\n",
      "       PRON,       0.00      0.00      0.00         0\n",
      "       PROPN       0.91      0.42      0.57      1290\n",
      "      PROPN,       0.00      0.00      0.00         0\n",
      "       PUNCT       0.96      0.10      0.19       222\n",
      "        Pode       0.00      0.00      0.00         0\n",
      "      Pronom       0.00      0.00      0.00         0\n",
      "       SCONJ       0.23      0.01      0.02       277\n",
      "         SYM       1.00      0.45      0.62        74\n",
      "        VERB       0.83      0.60      0.70      2024\n",
      "       VERB\"       0.00      0.00      0.00         0\n",
      "       VERB)       0.00      0.00      0.00         0\n",
      "       VERB,       0.00      0.00      0.00         0\n",
      "           X       0.00      0.00      0.00        33\n",
      "\n",
      "    accuracy                           0.48     18690\n",
      "   macro avg       0.13      0.08      0.09     18690\n",
      "weighted avg       0.68      0.48      0.53     18690\n",
      "\n"
     ]
    },
    {
     "name": "stderr",
     "output_type": "stream",
     "text": [
      "/home/mateus.machado/venvs/propor/lib/python3.9/site-packages/sklearn/metrics/_classification.py:1469: UndefinedMetricWarning: Precision and F-score are ill-defined and being set to 0.0 in labels with no predicted samples. Use `zero_division` parameter to control this behavior.\n",
      "  _warn_prf(average, modifier, msg_start, len(result))\n",
      "/home/mateus.machado/venvs/propor/lib/python3.9/site-packages/sklearn/metrics/_classification.py:1469: UndefinedMetricWarning: Recall and F-score are ill-defined and being set to 0.0 in labels with no true samples. Use `zero_division` parameter to control this behavior.\n",
      "  _warn_prf(average, modifier, msg_start, len(result))\n",
      "/home/mateus.machado/venvs/propor/lib/python3.9/site-packages/sklearn/metrics/_classification.py:1469: UndefinedMetricWarning: Precision and F-score are ill-defined and being set to 0.0 in labels with no predicted samples. Use `zero_division` parameter to control this behavior.\n",
      "  _warn_prf(average, modifier, msg_start, len(result))\n",
      "/home/mateus.machado/venvs/propor/lib/python3.9/site-packages/sklearn/metrics/_classification.py:1469: UndefinedMetricWarning: Recall and F-score are ill-defined and being set to 0.0 in labels with no true samples. Use `zero_division` parameter to control this behavior.\n",
      "  _warn_prf(average, modifier, msg_start, len(result))\n",
      "/home/mateus.machado/venvs/propor/lib/python3.9/site-packages/sklearn/metrics/_classification.py:1469: UndefinedMetricWarning: Precision and F-score are ill-defined and being set to 0.0 in labels with no predicted samples. Use `zero_division` parameter to control this behavior.\n",
      "  _warn_prf(average, modifier, msg_start, len(result))\n",
      "/home/mateus.machado/venvs/propor/lib/python3.9/site-packages/sklearn/metrics/_classification.py:1469: UndefinedMetricWarning: Recall and F-score are ill-defined and being set to 0.0 in labels with no true samples. Use `zero_division` parameter to control this behavior.\n",
      "  _warn_prf(average, modifier, msg_start, len(result))\n"
     ]
    }
   ],
   "source": [
    "print(classification_report(gold, maritacaPred))"
   ]
  },
  {
   "cell_type": "code",
   "execution_count": 96,
   "id": "dba65ac4-aa2a-4fd7-8ffe-db98ce4561e4",
   "metadata": {},
   "outputs": [
    {
     "name": "stdout",
     "output_type": "stream",
     "text": [
      "              precision    recall  f1-score   support\n",
      "\n",
      "         ADJ       0.75      0.60      0.67       996\n",
      "         ADP       0.66      0.45      0.53      2943\n",
      "         ADV       0.48      0.62      0.54       759\n",
      "         AUX       0.50      0.25      0.34       592\n",
      "       CCONJ       0.20      0.09      0.12       497\n",
      "         DET       0.57      0.46      0.51      2880\n",
      "        INTJ       0.67      0.67      0.67         3\n",
      "        NOUN       0.87      0.66      0.75      3757\n",
      "         NUM       0.52      0.68      0.59       364\n",
      "        None       0.05      0.28      0.09      1208\n",
      "        PRON       0.69      0.22      0.34       771\n",
      "       PROPN       0.91      0.42      0.57      1290\n",
      "       PUNCT       0.75      0.11      0.19       222\n",
      "       SCONJ       0.23      0.01      0.02       277\n",
      "         SYM       1.00      0.45      0.62        74\n",
      "        VERB       0.83      0.61      0.70      2024\n",
      "           X       0.00      0.00      0.00        33\n",
      "\n",
      "    accuracy                           0.48     18690\n",
      "   macro avg       0.57      0.39      0.43     18690\n",
      "weighted avg       0.66      0.48      0.54     18690\n",
      "\n"
     ]
    },
    {
     "name": "stderr",
     "output_type": "stream",
     "text": [
      "/home/mateus.machado/venvs/propor/lib/python3.9/site-packages/sklearn/metrics/_classification.py:1469: UndefinedMetricWarning: Precision and F-score are ill-defined and being set to 0.0 in labels with no predicted samples. Use `zero_division` parameter to control this behavior.\n",
      "  _warn_prf(average, modifier, msg_start, len(result))\n",
      "/home/mateus.machado/venvs/propor/lib/python3.9/site-packages/sklearn/metrics/_classification.py:1469: UndefinedMetricWarning: Precision and F-score are ill-defined and being set to 0.0 in labels with no predicted samples. Use `zero_division` parameter to control this behavior.\n",
      "  _warn_prf(average, modifier, msg_start, len(result))\n",
      "/home/mateus.machado/venvs/propor/lib/python3.9/site-packages/sklearn/metrics/_classification.py:1469: UndefinedMetricWarning: Precision and F-score are ill-defined and being set to 0.0 in labels with no predicted samples. Use `zero_division` parameter to control this behavior.\n",
      "  _warn_prf(average, modifier, msg_start, len(result))\n"
     ]
    }
   ],
   "source": [
    "maritacaPredCorrigido = []\n",
    "for tag in maritacaPred:\n",
    "    if tag in ['VERB,', 'VERB)', 'VERB\"']:\n",
    "        tag = 'VERB'\n",
    "    if tag in [\"'\",'(',',',':']:\n",
    "        tag = 'PUNCT'\n",
    "    if tag in ['3Sg','ADN','ART','BE','BE)','BEAR','BEEN','BEING','BEZ','CAUSA','COMO','COMP','COND','COORD','DEP','EST','EXCEPT','EXIST','HAS','HAVE','IMP']:\n",
    "        tag = 'None'\n",
    "    if tag in ['EXISTE', 'INF','INT','LOC','LOC,','MOD','MONTH','NEG','NENHUM','NNE']:\n",
    "        tag = 'None'\n",
    "    if tag in ['ADJ,','ADJP']:\n",
    "        tag = 'ADJ'\n",
    "    if tag in ['ADP,']:\n",
    "        tag = 'ADP'\n",
    "    if tag in ['ADV,']:\n",
    "        tag = 'ADV'\n",
    "    if tag in ['AUX,']:\n",
    "        tag = 'AUX'\n",
    "    if tag in ['CONJ','CONJ,']:\n",
    "        tag = 'CCONJ'\n",
    "    if tag in ['DET,']:\n",
    "        tag = 'DET'\n",
    "    if 'NOUN' in tag:\n",
    "        tag = 'NOUN'\n",
    "    if tag in ['Não', 'PARA','PARENTESES','PL','PLUR,','PODE','POR','PORQ','PORQUE','PLUR','PPOSS','PREP','Pode']:\n",
    "        tag = 'None'\n",
    "    if tag in ['PRON,','Pronom']:\n",
    "        tag = 'PRON'\n",
    "    if tag in ['PROPN,']:\n",
    "        tag = 'PROPN'\n",
    "    #if tag in ['NOUN,','NOUN\"','NOUN.','NOUN.  ']:\n",
    "    #    tag = 'NOUN'\n",
    "    maritacaPredCorrigido.append(tag)\n",
    "print(classification_report(gold, maritacaPredCorrigido))"
   ]
  },
  {
   "cell_type": "code",
   "execution_count": 119,
   "id": "c5b27a97-92b9-4d7e-9215-84f83f08aa47",
   "metadata": {},
   "outputs": [
    {
     "name": "stdout",
     "output_type": "stream",
     "text": [
      "              precision    recall  f1-score   support\n",
      "\n",
      "         ADJ       0.75      0.60      0.67       996\n",
      "         ADP       0.66      0.45      0.53      2943\n",
      "         ADV       0.48      0.62      0.54       759\n",
      "         AUX       0.50      0.25      0.34       592\n",
      "       CCONJ       0.20      0.09      0.12       497\n",
      "         DET       0.57      0.46      0.51      2880\n",
      "        INTJ       0.67      0.67      0.67         3\n",
      "        NOUN       0.87      0.66      0.75      3757\n",
      "         NUM       0.52      0.68      0.59       364\n",
      "        None       0.05      0.28      0.09      1208\n",
      "        PRON       0.69      0.22      0.34       771\n",
      "       PROPN       0.91      0.42      0.57      1290\n",
      "       PUNCT       0.75      0.11      0.19       222\n",
      "       SCONJ       0.23      0.01      0.02       277\n",
      "         SYM       1.00      0.45      0.62        74\n",
      "        VERB       0.83      0.61      0.70      2024\n",
      "           X       0.00      0.00      0.00        33\n",
      "\n",
      "    accuracy                           0.48     18690\n",
      "   macro avg       0.57      0.39      0.43     18690\n",
      "weighted avg       0.66      0.48      0.54     18690\n",
      "\n"
     ]
    },
    {
     "name": "stderr",
     "output_type": "stream",
     "text": [
      "/home/mateus.machado/venvs/propor/lib/python3.9/site-packages/sklearn/metrics/_classification.py:1469: UndefinedMetricWarning: Precision and F-score are ill-defined and being set to 0.0 in labels with no predicted samples. Use `zero_division` parameter to control this behavior.\n",
      "  _warn_prf(average, modifier, msg_start, len(result))\n",
      "/home/mateus.machado/venvs/propor/lib/python3.9/site-packages/sklearn/metrics/_classification.py:1469: UndefinedMetricWarning: Precision and F-score are ill-defined and being set to 0.0 in labels with no predicted samples. Use `zero_division` parameter to control this behavior.\n",
      "  _warn_prf(average, modifier, msg_start, len(result))\n",
      "/home/mateus.machado/venvs/propor/lib/python3.9/site-packages/sklearn/metrics/_classification.py:1469: UndefinedMetricWarning: Precision and F-score are ill-defined and being set to 0.0 in labels with no predicted samples. Use `zero_division` parameter to control this behavior.\n",
      "  _warn_prf(average, modifier, msg_start, len(result))\n"
     ]
    }
   ],
   "source": [
    "print(classification_report(gold, maritacaPredCorrigido))"
   ]
  },
  {
   "cell_type": "code",
   "execution_count": 109,
   "id": "7b816214-c33e-47da-a02a-cc934fff8c83",
   "metadata": {},
   "outputs": [
    {
     "name": "stdout",
     "output_type": "stream",
     "text": [
      "tag;precision;recall;f measure;support\n",
      "ADJ;0.75;0.6;0.67;996\n",
      "ADP;0.66;0.45;0.53;2943\n",
      "ADV;0.48;0.62;0.54;759\n",
      "AUX;0.5;0.25;0.34;592\n",
      "CCONJ;0.2;0.09;0.12;497\n",
      "DET;0.57;0.46;0.51;2880\n",
      "INTJ;0.67;0.67;0.67;3\n",
      "NOUN;0.87;0.66;0.75;3757\n",
      "NUM;0.52;0.68;0.59;364\n",
      "None;0.05;0.28;0.09;1208\n",
      "PRON;0.69;0.22;0.34;771\n",
      "PROPN;0.91;0.42;0.57;1290\n",
      "PUNCT;0.75;0.11;0.19;222\n",
      "SCONJ;0.23;0.01;0.02;277\n",
      "SYM;1.0;0.45;0.62;74\n",
      "VERB;0.83;0.61;0.7;2024\n",
      "X;0.0;0.0;0.0;33\n",
      "macro avg;0.57;0.39;0.43;18690\n"
     ]
    },
    {
     "name": "stderr",
     "output_type": "stream",
     "text": [
      "/home/mateus.machado/venvs/propor/lib/python3.9/site-packages/sklearn/metrics/_classification.py:1469: UndefinedMetricWarning: Precision and F-score are ill-defined and being set to 0.0 in labels with no predicted samples. Use `zero_division` parameter to control this behavior.\n",
      "  _warn_prf(average, modifier, msg_start, len(result))\n",
      "/home/mateus.machado/venvs/propor/lib/python3.9/site-packages/sklearn/metrics/_classification.py:1469: UndefinedMetricWarning: Precision and F-score are ill-defined and being set to 0.0 in labels with no predicted samples. Use `zero_division` parameter to control this behavior.\n",
      "  _warn_prf(average, modifier, msg_start, len(result))\n",
      "/home/mateus.machado/venvs/propor/lib/python3.9/site-packages/sklearn/metrics/_classification.py:1469: UndefinedMetricWarning: Precision and F-score are ill-defined and being set to 0.0 in labels with no predicted samples. Use `zero_division` parameter to control this behavior.\n",
      "  _warn_prf(average, modifier, msg_start, len(result))\n"
     ]
    }
   ],
   "source": [
    "print('tag;precision;recall;f measure;support')\n",
    "report = classification_report(gold, maritacaPredCorrigido, output_dict=True)\n",
    "for rep in report:\n",
    "    if rep in ['accuracy','weighted avg']: continue\n",
    "    #print(rep,report[rep])\n",
    "    print(f'{rep};{round(report[rep][\"precision\"],2)};{round(report[rep][\"recall\"],2)};{round(report[rep][\"f1-score\"],2)};{round(report[rep][\"support\"])}')"
   ]
  },
  {
   "cell_type": "code",
   "execution_count": null,
   "id": "2ca1bae1-00d5-434f-8546-83931884b789",
   "metadata": {},
   "outputs": [],
   "source": []
  },
  {
   "cell_type": "code",
   "execution_count": null,
   "id": "0f4625ed-68b5-4fe5-ab32-fa7f6f9bd686",
   "metadata": {},
   "outputs": [],
   "source": []
  },
  {
   "cell_type": "code",
   "execution_count": null,
   "id": "41e0dfd7-defc-426b-b77a-bbafe7c2896a",
   "metadata": {},
   "outputs": [],
   "source": []
  },
  {
   "cell_type": "code",
   "execution_count": null,
   "id": "5aa7f0ff-a268-4d28-b1ef-7f5928a4492c",
   "metadata": {},
   "outputs": [],
   "source": []
  },
  {
   "cell_type": "code",
   "execution_count": null,
   "id": "f45b7c4a-d5f0-448c-86de-5d365b53e846",
   "metadata": {},
   "outputs": [],
   "source": []
  },
  {
   "cell_type": "code",
   "execution_count": null,
   "id": "0af6641c-8060-41db-8346-f2f861870c13",
   "metadata": {},
   "outputs": [],
   "source": []
  },
  {
   "cell_type": "code",
   "execution_count": 50,
   "id": "6d1c4f35-5a7f-4e18-9704-ea18285900e9",
   "metadata": {},
   "outputs": [
    {
     "name": "stdout",
     "output_type": "stream",
     "text": [
      "division by zero\n",
      "True\n",
      "division by zero\n",
      "True\n",
      "False\n",
      "ok\n"
     ]
    }
   ],
   "source": [
    "def teste():\n",
    "    retries = 3\n",
    "    cont = -1\n",
    "    while retries > 0:\n",
    "        erro = False\n",
    "        try:\n",
    "            if cont <= 0:\n",
    "                res = 3 / 0\n",
    "        except Exception as e: \n",
    "            if e:\n",
    "                erro = True\n",
    "                print(e)\n",
    "                retries -= 1\n",
    "                cont += 1\n",
    "                #time.sleep(5)\n",
    "        print(erro)\n",
    "        if not erro:\n",
    "            return 'ok'\n",
    "        #else:\n",
    "        #    return('not ok')\n",
    "    #raise(e)\n",
    "    raise Exception(\"Sorry, no numbers below zero\")\n",
    "print(teste())"
   ]
  },
  {
   "cell_type": "code",
   "execution_count": null,
   "id": "2d474d66-fc81-4086-b0ad-6fe9a46eb82a",
   "metadata": {},
   "outputs": [],
   "source": []
  }
 ],
 "metadata": {
  "kernelspec": {
   "display_name": "Python 3 (ipykernel)",
   "language": "python",
   "name": "python3"
  },
  "language_info": {
   "codemirror_mode": {
    "name": "ipython",
    "version": 3
   },
   "file_extension": ".py",
   "mimetype": "text/x-python",
   "name": "python",
   "nbconvert_exporter": "python",
   "pygments_lexer": "ipython3",
   "version": "3.9.5"
  }
 },
 "nbformat": 4,
 "nbformat_minor": 5
}
