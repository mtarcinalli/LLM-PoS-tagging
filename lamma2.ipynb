{
 "cells": [
  {
   "cell_type": "code",
   "execution_count": 81,
   "id": "bab10464-bb23-4e08-9014-2895ada3f8ae",
   "metadata": {},
   "outputs": [],
   "source": [
    "import requests\n",
    "import pyconll\n",
    "from sklearn import metrics\n",
    "from tqdm import tqdm"
   ]
  },
  {
   "cell_type": "code",
   "execution_count": null,
   "id": "5a9f5362-ebd4-4347-9415-98aa844810f3",
   "metadata": {},
   "outputs": [],
   "source": []
  },
  {
   "cell_type": "code",
   "execution_count": 27,
   "id": "c3e32b99-646b-4c5b-b5c9-bb27642ac963",
   "metadata": {},
   "outputs": [],
   "source": [
    "def askLamma(prompt):\n",
    "    api_url = \"http://127.0.0.1:8042/llama/\"\n",
    "    todo = {\"prompts\":[prompt], \"max_gen_len\": 500}\n",
    "    response = requests.post(api_url, json=todo)\n",
    "    resp = response.json()\n",
    "    predicted_text = resp['responses'][0]['generation']\n",
    "    endOfAnswer = predicted_text.find('\\n')\n",
    "    return predicted_text[:endOfAnswer]"
   ]
  },
  {
   "cell_type": "code",
   "execution_count": null,
   "id": "87822642-ccda-4ec1-b918-5f789a4f3601",
   "metadata": {},
   "outputs": [],
   "source": []
  },
  {
   "cell_type": "code",
   "execution_count": 20,
   "id": "68dd1083-82dc-425c-bb00-0e97def3b21e",
   "metadata": {},
   "outputs": [],
   "source": [
    "# reading first 1020 dataset sentences\n",
    "frases = pyconll.load_from_file('data/porttinari-base/Porttinari-base_test.conllu')\n",
    "reviews = []\n",
    "for sent in frases[:1020]:\n",
    "    lista_ud=[]\n",
    "    for token in sent:\n",
    "        lista_ud.append([token.form, token.xpos, token.upos, token.deprel])\n",
    "    reviews.append(lista_ud)"
   ]
  },
  {
   "cell_type": "code",
   "execution_count": 24,
   "id": "e274cc96-465b-4057-ba85-fb2523001a37",
   "metadata": {},
   "outputs": [],
   "source": [
    "promptStart = \"Atuando como linguista, faça a análise morfossintática das frases seguindo a anotação UD (Universal Dependencies) como nos exemplos abaixo.\\n\\n\"\n",
    "for review in reviews[:10]:\n",
    "    entrada = \"Entrada: \"\n",
    "    saida  = \"Saida: \"\n",
    "    for token in review:\n",
    "        if not token[2]:\n",
    "            token[2] = 'None'\n",
    "        entrada += token[0] + ' '\n",
    "        saida += token[0] + '/' + token[2] + ' '\n",
    "    entrada = entrada.strip()\n",
    "    saida = saida.strip()\n",
    "    promptStart += entrada + \"\\n\" + saida + \"\\n\\n\"\n",
    "#print(promptStart)"
   ]
  },
  {
   "cell_type": "code",
   "execution_count": 25,
   "id": "1ea618df-5b60-4d6a-a231-2ce26b0866ca",
   "metadata": {},
   "outputs": [
    {
     "data": {
      "text/plain": [
       "3034"
      ]
     },
     "execution_count": 25,
     "metadata": {},
     "output_type": "execute_result"
    }
   ],
   "source": [
    "len(promptStart)"
   ]
  },
  {
   "cell_type": "code",
   "execution_count": 73,
   "id": "5525a6f5-552d-45db-9e06-5f21f56994d0",
   "metadata": {},
   "outputs": [
    {
     "name": "stdout",
     "output_type": "stream",
     "text": [
      "\n",
      "Você/PRON ,/PUNCT por/ADP exemplo/NOUN ,/PUNCT você/PRON brilha/VERB um/NUM pouco/ADJ ./PUNCT\n",
      "A/DET gente/PRON vai/VERB comprar/VERB pão/NOUN e/CCONJ fica/VERB ouvindo/VERB muita/ADJ coisinha/NOUN ./PUNCT\n",
      "Nos/DET Em/ADP os/DET anos/NOUN 1990/NUM ,/PUNCT tínhamos/VERB uma/DET perspectiva/NOUN de/ADP um/DET mundo/NOUN sem/ADV fronteiras/ADJ ,/PUNCT algo/ADJ que/PRON nos/PRON em/ADP os/DET anos/NOUN 1980/NUM ,/PUNCT era/AUX inimaginável/ADJ ./PUNCT\n",
      "Nos/PRON Em/ADP os/DET anos/NOUN 1990/NUM ,/PUNCT tínhamos/VERB uma/DET perspectiva/NOUN de/ADP um/DET mundo/NOUN sem/ADJ fronteiras/NOUN ,/PUNCT algo/ADJ que/SCONJ nos/PRON em/ADP os/DET anos/NOUN 1980/NUM ,/PUNCT era/AUX inimaginável/ADJ ./PUNCT\n",
      "Nos/DET Em/ADP os/DET anos/NUM 1990/NUM ,/PUNCT tínhamos/VERB uma/DET perspectiva/NOUN de/ADP um/DET mundo/NOUN sem/ADV fronteiras/ADJ ,/PUNCT algo/ADJ que/PRON nos/PRON em/ADP os/DET anos/NUM 1980/NUM ,/PUNCT era/AUX inimaginável/ADJ ./PUNCT\n",
      "Nos/PRON Em/ADP os/DET anos/NOUN 1990/NUM ,/PUNCT tínhamos/VERB uma/DET perspectiva/NOUN de/ADP um/DET mundo/NOUN sem/ADP fronteiras/NOUN ,/PUNCT algo/ADJ que/PRON nos/PRON em/ADP os/DET anos/NOUN 1980/NUM ,/PUNCT era/AUX inimaginável/ADJ ./PUNCT\n",
      "1990/NUM nos/PRON Em/ADP os/DET anos/NOUN ,/PUNCT tínhamos/VERB uma/DET perspectiva/NOUN de/ADP um/DET mundo/NOUN sem/ADP fronteiras/NOUN ,/PUNCT algo/ADJ que/PRON nos/PRON em/ADP os/DET anos/NOUN 1980/NUM era/AUX inimaginável/ADJ ./PUNCT\n",
      "Como/ADP é/AUX possível/AUX adaptá-lo/None adaptar/VERB lo/PRON para/ADP outros/PRON contextos/NOUN socioeconômicos/ADJ ?/PUNCT\n"
     ]
    }
   ],
   "source": [
    "gold = []\n",
    "pred = []\n",
    "for review in reviews[20:24]:\n",
    "    prompt = promptStart\n",
    "    entrada = \"Entrada: \"\n",
    "    saida  = \"Saida: \"\n",
    "    goldSent = []\n",
    "    for token in review:\n",
    "        if not token[2]:\n",
    "            token[2] = 'None'\n",
    "        gold.append(token[2])\n",
    "        goldSent.append(token[2])\n",
    "        entrada += token[0] + ' '\n",
    "        saida += token[0] + '/' + token[2] + ' '\n",
    "    entrada = entrada.strip()\n",
    "    saida = saida.strip()\n",
    "    prompt += entrada + \"\\nSaída: \"\n",
    "    tries = 0\n",
    "    while True:\n",
    "        answer = askLamma(prompt)\n",
    "        tries += 1\n",
    "        #print(answer)\n",
    "        try:\n",
    "            tagsSent = [token.split('/')[1] for token in answer.split(' ')]\n",
    "        except:\n",
    "            #print('retry except', tries)\n",
    "            continue\n",
    "        if len(tagsSent) == len(goldSent):\n",
    "            #print('retry', tries)\n",
    "            break\n",
    "        if tries > 15:\n",
    "            print('error')\n",
    "            tagsSent = ['None'] * len(goldSent)\n",
    "            break\n",
    "    pred += tagsSent\n",
    "    #print('=======')"
   ]
  },
  {
   "cell_type": "code",
   "execution_count": 79,
   "id": "e0986f2f-89c4-4e78-8ad4-99566e49af8f",
   "metadata": {},
   "outputs": [
    {
     "name": "stdout",
     "output_type": "stream",
     "text": [
      "57 57\n",
      "              precision    recall  f1-score   support\n",
      "\n",
      "         ADJ       0.60      0.75      0.67         4\n",
      "         ADP       0.71      0.83      0.77         6\n",
      "         ADV       0.00      0.00      0.00         1\n",
      "         AUX       0.67      0.67      0.67         3\n",
      "       CCONJ       1.00      1.00      1.00         1\n",
      "         DET       0.80      0.57      0.67         7\n",
      "        NOUN       0.89      0.73      0.80        11\n",
      "         NUM       0.33      0.50      0.40         2\n",
      "        None       1.00      0.33      0.50         3\n",
      "        PRON       0.50      0.80      0.62         5\n",
      "       PUNCT       1.00      1.00      1.00         8\n",
      "        VERB       0.86      1.00      0.92         6\n",
      "\n",
      "    accuracy                           0.75        57\n",
      "   macro avg       0.70      0.68      0.67        57\n",
      "weighted avg       0.78      0.75      0.75        57\n",
      "\n"
     ]
    },
    {
     "name": "stderr",
     "output_type": "stream",
     "text": [
      "/home/mateus/venvs/propor2023/lib/python3.10/site-packages/sklearn/metrics/_classification.py:1469: UndefinedMetricWarning: Precision and F-score are ill-defined and being set to 0.0 in labels with no predicted samples. Use `zero_division` parameter to control this behavior.\n",
      "  _warn_prf(average, modifier, msg_start, len(result))\n",
      "/home/mateus/venvs/propor2023/lib/python3.10/site-packages/sklearn/metrics/_classification.py:1469: UndefinedMetricWarning: Precision and F-score are ill-defined and being set to 0.0 in labels with no predicted samples. Use `zero_division` parameter to control this behavior.\n",
      "  _warn_prf(average, modifier, msg_start, len(result))\n",
      "/home/mateus/venvs/propor2023/lib/python3.10/site-packages/sklearn/metrics/_classification.py:1469: UndefinedMetricWarning: Precision and F-score are ill-defined and being set to 0.0 in labels with no predicted samples. Use `zero_division` parameter to control this behavior.\n",
      "  _warn_prf(average, modifier, msg_start, len(result))\n"
     ]
    }
   ],
   "source": [
    "print(len(gold),len(pred))\n",
    "print(metrics.classification_report(gold, pred))"
   ]
  },
  {
   "cell_type": "code",
   "execution_count": null,
   "id": "944a5380-13bd-4e2b-a43c-ff1fb96788de",
   "metadata": {},
   "outputs": [],
   "source": []
  },
  {
   "cell_type": "code",
   "execution_count": 83,
   "id": "88d10bd1-26e3-4794-b1d9-dc0d22129a68",
   "metadata": {},
   "outputs": [
    {
     "name": "stderr",
     "output_type": "stream",
     "text": [
      "100%|██████████████████████████████████████████████████████████████████████████████████████████████████████████████████████████████████████████████████████████████████████████████| 4/4 [01:14<00:00, 18.73s/it]"
     ]
    },
    {
     "name": "stdout",
     "output_type": "stream",
     "text": [
      "gold 57 pred 57 errors 0 [4, 1, 1, 1]\n",
      "              precision    recall  f1-score   support\n",
      "\n",
      "         ADJ       1.00      0.75      0.86         4\n",
      "         ADP       0.67      0.67      0.67         6\n",
      "         ADV       0.50      1.00      0.67         1\n",
      "         AUX       1.00      0.67      0.80         3\n",
      "       CCONJ       1.00      1.00      1.00         1\n",
      "         DET       0.83      0.71      0.77         7\n",
      "        NOUN       0.73      0.73      0.73        11\n",
      "         NUM       0.33      0.50      0.40         2\n",
      "        None       1.00      0.33      0.50         3\n",
      "        PRON       0.57      0.80      0.67         5\n",
      "       PUNCT       1.00      1.00      1.00         8\n",
      "        VERB       0.86      1.00      0.92         6\n",
      "\n",
      "    accuracy                           0.77        57\n",
      "   macro avg       0.79      0.76      0.75        57\n",
      "weighted avg       0.81      0.77      0.77        57\n",
      "\n"
     ]
    },
    {
     "name": "stderr",
     "output_type": "stream",
     "text": [
      "\n"
     ]
    }
   ],
   "source": [
    "gold = []\n",
    "pred = []\n",
    "totalTries = []\n",
    "errors = 0\n",
    "for review in tqdm(reviews[20:24]):\n",
    "    prompt = promptStart\n",
    "    entrada = \"Entrada: \"\n",
    "    saida  = \"Saida: \"\n",
    "    goldSent = []\n",
    "    for token in review:\n",
    "        if not token[2]:\n",
    "            token[2] = 'None'\n",
    "        gold.append(token[2])\n",
    "        goldSent.append(token[2])\n",
    "        entrada += token[0] + ' '\n",
    "        saida += token[0] + '/' + token[2] + ' '\n",
    "    entrada = entrada.strip()\n",
    "    saida = saida.strip()\n",
    "    prompt += entrada + \"\\nSaída: \"\n",
    "    tries = 0\n",
    "    while True:\n",
    "        answer = askLamma(prompt)\n",
    "        tries += 1\n",
    "        #print(answer)\n",
    "        try:\n",
    "            tagsSent = [token.split('/')[1] for token in answer.split(' ')]\n",
    "        except:\n",
    "            #print('retry except', tries)\n",
    "            continue\n",
    "        if len(tagsSent) == len(goldSent):\n",
    "            #print('retry', tries)\n",
    "            totalTries.append(tries)\n",
    "            break\n",
    "        if tries > 15:\n",
    "            errors += 1\n",
    "            print('error')\n",
    "            tagsSent = ['None'] * len(goldSent)\n",
    "            totalTries.append(tries)\n",
    "            break\n",
    "    pred += tagsSent\n",
    "    #print('=======')\n",
    "print('gold',len(gold),'pred',len(pred),'errors',errors,totalTries)\n",
    "print(metrics.classification_report(gold, pred))"
   ]
  },
  {
   "cell_type": "code",
   "execution_count": null,
   "id": "f6a70ff9-f60f-4b2a-a9f8-65ddf4d89e86",
   "metadata": {},
   "outputs": [],
   "source": []
  },
  {
   "cell_type": "code",
   "execution_count": null,
   "id": "cd1c6634-7c47-4465-b24f-77c9205d2725",
   "metadata": {},
   "outputs": [],
   "source": []
  },
  {
   "cell_type": "code",
   "execution_count": null,
   "id": "8a9ec4d7-a942-41a3-aae9-239dcd4a1752",
   "metadata": {},
   "outputs": [],
   "source": []
  },
  {
   "cell_type": "code",
   "execution_count": null,
   "id": "cc7bfd11-d2ab-4078-9e39-fc579141d5e1",
   "metadata": {},
   "outputs": [],
   "source": []
  },
  {
   "cell_type": "code",
   "execution_count": null,
   "id": "13e64f51-e73c-45f0-a74b-1710fbe50990",
   "metadata": {},
   "outputs": [],
   "source": []
  },
  {
   "cell_type": "code",
   "execution_count": null,
   "id": "114b44e1-ceac-445a-ae3a-00f9b0eef189",
   "metadata": {},
   "outputs": [],
   "source": []
  },
  {
   "cell_type": "code",
   "execution_count": 78,
   "id": "9a5c99a4-8986-472a-82e8-acf630751c8b",
   "metadata": {},
   "outputs": [
    {
     "name": "stdout",
     "output_type": "stream",
     "text": [
      "57\n"
     ]
    }
   ],
   "source": [
    "print()"
   ]
  },
  {
   "cell_type": "code",
   "execution_count": 76,
   "id": "d9fffb63-7c0b-4f14-a665-79a2565c20c0",
   "metadata": {},
   "outputs": [
    {
     "name": "stdout",
     "output_type": "stream",
     "text": [
      "              precision    recall  f1-score   support\n",
      "\n",
      "         ADJ       0.60      0.75      0.67         4\n",
      "         ADP       0.71      0.83      0.77         6\n",
      "         ADV       0.00      0.00      0.00         1\n",
      "         AUX       0.67      0.67      0.67         3\n",
      "       CCONJ       1.00      1.00      1.00         1\n",
      "         DET       0.80      0.57      0.67         7\n",
      "        NOUN       0.89      0.73      0.80        11\n",
      "         NUM       0.33      0.50      0.40         2\n",
      "        None       1.00      0.33      0.50         3\n",
      "        PRON       0.50      0.80      0.62         5\n",
      "       PUNCT       1.00      1.00      1.00         8\n",
      "        VERB       0.86      1.00      0.92         6\n",
      "\n",
      "    accuracy                           0.75        57\n",
      "   macro avg       0.70      0.68      0.67        57\n",
      "weighted avg       0.78      0.75      0.75        57\n",
      "\n"
     ]
    },
    {
     "name": "stderr",
     "output_type": "stream",
     "text": [
      "/home/mateus/venvs/propor2023/lib/python3.10/site-packages/sklearn/metrics/_classification.py:1469: UndefinedMetricWarning: Precision and F-score are ill-defined and being set to 0.0 in labels with no predicted samples. Use `zero_division` parameter to control this behavior.\n",
      "  _warn_prf(average, modifier, msg_start, len(result))\n",
      "/home/mateus/venvs/propor2023/lib/python3.10/site-packages/sklearn/metrics/_classification.py:1469: UndefinedMetricWarning: Precision and F-score are ill-defined and being set to 0.0 in labels with no predicted samples. Use `zero_division` parameter to control this behavior.\n",
      "  _warn_prf(average, modifier, msg_start, len(result))\n",
      "/home/mateus/venvs/propor2023/lib/python3.10/site-packages/sklearn/metrics/_classification.py:1469: UndefinedMetricWarning: Precision and F-score are ill-defined and being set to 0.0 in labels with no predicted samples. Use `zero_division` parameter to control this behavior.\n",
      "  _warn_prf(average, modifier, msg_start, len(result))\n"
     ]
    }
   ],
   "source": []
  },
  {
   "cell_type": "code",
   "execution_count": null,
   "id": "b5686e7f-df98-48c9-8f0c-93d9fa8f6235",
   "metadata": {},
   "outputs": [],
   "source": []
  },
  {
   "cell_type": "code",
   "execution_count": null,
   "id": "f7733069-e05c-4857-a57b-6113be7026cd",
   "metadata": {},
   "outputs": [],
   "source": []
  },
  {
   "cell_type": "code",
   "execution_count": null,
   "id": "a2925284-6b91-4194-bf6d-9ba76638bb56",
   "metadata": {},
   "outputs": [],
   "source": []
  },
  {
   "cell_type": "code",
   "execution_count": null,
   "id": "71d3cd2d-2d7f-4cbc-b422-d25f2c3d6bec",
   "metadata": {},
   "outputs": [],
   "source": []
  },
  {
   "cell_type": "code",
   "execution_count": null,
   "id": "8980c0fe-71d2-4be5-99d1-25566b3d94ae",
   "metadata": {},
   "outputs": [],
   "source": []
  },
  {
   "cell_type": "code",
   "execution_count": 72,
   "id": "758eb2b9-2bdc-4e0b-8b16-947511727704",
   "metadata": {},
   "outputs": [
    {
     "data": {
      "text/plain": [
       "['None', 'None', 'None']"
      ]
     },
     "execution_count": 72,
     "metadata": {},
     "output_type": "execute_result"
    }
   ],
   "source": [
    "['None'] * 3"
   ]
  },
  {
   "cell_type": "code",
   "execution_count": null,
   "id": "ae9149f1-9778-449e-a5bf-1985c9d3190a",
   "metadata": {},
   "outputs": [],
   "source": []
  },
  {
   "cell_type": "code",
   "execution_count": null,
   "id": "82211f70-ce7c-4e33-a3c2-025d136a4cc2",
   "metadata": {},
   "outputs": [],
   "source": []
  },
  {
   "cell_type": "code",
   "execution_count": null,
   "id": "c36a5e8b-acec-4f0b-8c15-fae9ffea3170",
   "metadata": {},
   "outputs": [],
   "source": []
  },
  {
   "cell_type": "code",
   "execution_count": 41,
   "id": "8d7e1083-9d37-4877-bfec-75f4a05e7905",
   "metadata": {},
   "outputs": [],
   "source": [
    "tagsSent = [token.split('/')[1] for token in answer.split(' ')]"
   ]
  },
  {
   "cell_type": "code",
   "execution_count": null,
   "id": "94dd6e57-1ede-428a-a6e7-8b926c3d5bd4",
   "metadata": {},
   "outputs": [],
   "source": []
  },
  {
   "cell_type": "code",
   "execution_count": null,
   "id": "40345ce6-ba18-450b-ae99-e70e4a9a79d7",
   "metadata": {},
   "outputs": [],
   "source": []
  },
  {
   "cell_type": "code",
   "execution_count": null,
   "id": "da912cb1-65b4-460a-a2fb-ecdaa67553f3",
   "metadata": {},
   "outputs": [],
   "source": []
  },
  {
   "cell_type": "code",
   "execution_count": 42,
   "id": "ca10f69b-6b08-4978-a5bb-7cb743569932",
   "metadata": {},
   "outputs": [
    {
     "data": {
      "text/plain": [
       "['DET',\n",
       " 'PRON',\n",
       " 'AUX',\n",
       " 'VERB',\n",
       " 'NOUN',\n",
       " 'CCONJ',\n",
       " 'VERB',\n",
       " 'VERB',\n",
       " 'ADV',\n",
       " 'NOUN',\n",
       " 'PUNCT']"
      ]
     },
     "execution_count": 42,
     "metadata": {},
     "output_type": "execute_result"
    }
   ],
   "source": [
    "tagsSent"
   ]
  },
  {
   "cell_type": "code",
   "execution_count": null,
   "id": "6035d839-5682-4cd7-980f-9a99f125482f",
   "metadata": {},
   "outputs": [],
   "source": []
  },
  {
   "cell_type": "code",
   "execution_count": 3,
   "id": "62525703-e5e7-4a3c-9e81-a4b5de2c8cfd",
   "metadata": {},
   "outputs": [
    {
     "name": "stdout",
     "output_type": "stream",
     "text": [
      "Mr. Bean/VBD loves/VBD giant bees/NNP ./.\n"
     ]
    }
   ],
   "source": [
    "prompt = \"\"\"Input: Ms. Haag plays Elianti .\n",
    "Output: Ms./NNP Haag/NNP plays/VBZ Elianti/NNP ./.\n",
    "\n",
    "Input: Mr. Bean loves giant bees.\n",
    "Output: \"\"\"\n",
    "print(askLamma(prompt))"
   ]
  },
  {
   "cell_type": "code",
   "execution_count": 4,
   "id": "dfa5f975-edfc-4a80-8f06-295ce9e728d4",
   "metadata": {},
   "outputs": [
    {
     "name": "stdout",
     "output_type": "stream",
     "text": [
      "\n"
     ]
    }
   ],
   "source": [
    "prompt = \"\"\"Input: Ms. Haag plays Elianti .\n",
    "Output: Ms./NNP Haag/NNP plays/VBZ Elianti/NNP ./.\n",
    "\n",
    "Input: Mr. Bean adora abelhas gigantes.\n",
    "Output: \"\"\"\n",
    "print(askLamma(prompt))"
   ]
  },
  {
   "cell_type": "code",
   "execution_count": 5,
   "id": "0a83a33e-8340-423f-8a89-ef868ce02e5c",
   "metadata": {},
   "outputs": [
    {
     "name": "stdout",
     "output_type": "stream",
     "text": [
      "Uma/NNP bela/NNP casa/NNP amarela/NNP ./.\n"
     ]
    }
   ],
   "source": [
    "prompt = \"\"\"Input: Ms. Haag plays Elianti .\n",
    "Output: Ms./NNP Haag/NNP plays/VBZ Elianti/NNP ./.\n",
    "\n",
    "Input: Uma bela casa amarela.\n",
    "Output: \"\"\"\n",
    "print(askLamma(prompt))"
   ]
  },
  {
   "cell_type": "code",
   "execution_count": null,
   "id": "0a1fed6b-9daf-40f6-9c8d-7b035fd007bc",
   "metadata": {},
   "outputs": [],
   "source": []
  },
  {
   "cell_type": "code",
   "execution_count": null,
   "id": "d7e034b5-43ab-4b6d-85e7-2b68c6315046",
   "metadata": {},
   "outputs": [],
   "source": []
  },
  {
   "cell_type": "code",
   "execution_count": null,
   "id": "a9c30e8a-0266-46b4-9e02-8663a8a1467f",
   "metadata": {},
   "outputs": [],
   "source": []
  }
 ],
 "metadata": {
  "kernelspec": {
   "display_name": "propor2023",
   "language": "python",
   "name": "propor2023"
  },
  "language_info": {
   "codemirror_mode": {
    "name": "ipython",
    "version": 3
   },
   "file_extension": ".py",
   "mimetype": "text/x-python",
   "name": "python",
   "nbconvert_exporter": "python",
   "pygments_lexer": "ipython3",
   "version": "3.10.12"
  }
 },
 "nbformat": 4,
 "nbformat_minor": 5
}
