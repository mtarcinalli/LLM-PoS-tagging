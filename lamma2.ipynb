{
 "cells": [
  {
   "cell_type": "code",
   "execution_count": 1,
   "id": "bab10464-bb23-4e08-9014-2895ada3f8ae",
   "metadata": {},
   "outputs": [],
   "source": [
    "import requests\n",
    "import pyconll\n",
    "from sklearn import metrics\n",
    "from tqdm import tqdm"
   ]
  },
  {
   "cell_type": "code",
   "execution_count": null,
   "id": "5a9f5362-ebd4-4347-9415-98aa844810f3",
   "metadata": {},
   "outputs": [],
   "source": []
  },
  {
   "cell_type": "code",
   "execution_count": 2,
   "id": "c3e32b99-646b-4c5b-b5c9-bb27642ac963",
   "metadata": {},
   "outputs": [],
   "source": [
    "def askLamma(prompt):\n",
    "    api_url = \"http://127.0.0.1:8042/llama/\"\n",
    "    todo = {\"prompts\":[prompt], \"max_gen_len\": 500}\n",
    "    response = requests.post(api_url, json=todo)\n",
    "    resp = response.json()\n",
    "    predicted_text = resp['responses'][0]['generation']\n",
    "    endOfAnswer = predicted_text.find('\\n')\n",
    "    return predicted_text[:endOfAnswer]"
   ]
  },
  {
   "cell_type": "code",
   "execution_count": null,
   "id": "87822642-ccda-4ec1-b918-5f789a4f3601",
   "metadata": {},
   "outputs": [],
   "source": []
  },
  {
   "cell_type": "code",
   "execution_count": 3,
   "id": "68dd1083-82dc-425c-bb00-0e97def3b21e",
   "metadata": {},
   "outputs": [],
   "source": [
    "# reading first 1020 dataset sentences\n",
    "frases = pyconll.load_from_file('data/porttinari-base/Porttinari-base_test.conllu')\n",
    "reviews = []\n",
    "for sent in frases[:1020]:\n",
    "    lista_ud=[]\n",
    "    for token in sent:\n",
    "        lista_ud.append([token.form, token.xpos, token.upos, token.deprel])\n",
    "    reviews.append(lista_ud)"
   ]
  },
  {
   "cell_type": "code",
   "execution_count": 4,
   "id": "e274cc96-465b-4057-ba85-fb2523001a37",
   "metadata": {},
   "outputs": [],
   "source": [
    "promptStart = \"Atuando como linguista, faça a análise morfossintática das frases seguindo a anotação UD (Universal Dependencies) como nos exemplos abaixo.\\n\\n\"\n",
    "for review in reviews[:10]:\n",
    "    entrada = \"Entrada: \"\n",
    "    saida  = \"Saida: \"\n",
    "    for token in review:\n",
    "        if not token[2]:\n",
    "            token[2] = 'None'\n",
    "        entrada += token[0] + ' '\n",
    "        saida += token[0] + '/' + token[2] + ' '\n",
    "    entrada = entrada.strip()\n",
    "    saida = saida.strip()\n",
    "    promptStart += entrada + \"\\n\" + saida + \"\\n\\n\"\n",
    "#print(promptStart)"
   ]
  },
  {
   "cell_type": "code",
   "execution_count": 5,
   "id": "1ea618df-5b60-4d6a-a231-2ce26b0866ca",
   "metadata": {},
   "outputs": [
    {
     "data": {
      "text/plain": [
       "3034"
      ]
     },
     "execution_count": 5,
     "metadata": {},
     "output_type": "execute_result"
    }
   ],
   "source": [
    "len(promptStart)"
   ]
  },
  {
   "cell_type": "code",
   "execution_count": null,
   "id": "944a5380-13bd-4e2b-a43c-ff1fb96788de",
   "metadata": {},
   "outputs": [],
   "source": []
  },
  {
   "cell_type": "code",
   "execution_count": null,
   "id": "88d10bd1-26e3-4794-b1d9-dc0d22129a68",
   "metadata": {},
   "outputs": [
    {
     "name": "stderr",
     "output_type": "stream",
     "text": [
      "  0%|▎                                                                                                                                                                        | 2/1000 [00:21<2:57:54, 10.70s/it]"
     ]
    }
   ],
   "source": [
    "gold = []\n",
    "pred = []\n",
    "totalTries = []\n",
    "errors = 0\n",
    "for review in tqdm(reviews[20:]):\n",
    "    prompt = promptStart\n",
    "    entrada = \"Entrada: \"\n",
    "    saida  = \"Saida: \"\n",
    "    goldSent = []\n",
    "    for token in review:\n",
    "        if not token[2]:\n",
    "            token[2] = 'None'\n",
    "        gold.append(token[2])\n",
    "        goldSent.append(token[2])\n",
    "        entrada += token[0] + ' '\n",
    "        saida += token[0] + '/' + token[2] + ' '\n",
    "    entrada = entrada.strip()\n",
    "    saida = saida.strip()\n",
    "    prompt += entrada + \"\\nSaída: \"\n",
    "    tries = 0\n",
    "    while True:\n",
    "        answer = askLamma(prompt)\n",
    "        tries += 1\n",
    "        #print(answer)\n",
    "        try:\n",
    "            tagsSent = [token.split('/')[1] for token in answer.split(' ')]\n",
    "        except:\n",
    "            #print('retry except', tries)\n",
    "            continue\n",
    "        if len(tagsSent) == len(goldSent):\n",
    "            #print('retry', tries)\n",
    "            totalTries.append(tries)\n",
    "            break\n",
    "        if tries > 15:\n",
    "            errors += 1\n",
    "            print('error')\n",
    "            tagsSent = ['None'] * len(goldSent)\n",
    "            totalTries.append(tries)\n",
    "            break\n",
    "    pred += tagsSent\n",
    "    #print('=======')\n",
    "print('gold',len(gold),'pred',len(pred),'errors',errors)\n",
    "print(metrics.classification_report(gold, pred))"
   ]
  },
  {
   "cell_type": "code",
   "execution_count": 7,
   "id": "f6a70ff9-f60f-4b2a-a9f8-65ddf4d89e86",
   "metadata": {},
   "outputs": [
    {
     "data": {
      "text/plain": [
       "[1, 1, 2, 1]"
      ]
     },
     "execution_count": 7,
     "metadata": {},
     "output_type": "execute_result"
    }
   ],
   "source": [
    "totalTries"
   ]
  },
  {
   "cell_type": "code",
   "execution_count": null,
   "id": "cd1c6634-7c47-4465-b24f-77c9205d2725",
   "metadata": {},
   "outputs": [],
   "source": []
  },
  {
   "cell_type": "code",
   "execution_count": null,
   "id": "8a9ec4d7-a942-41a3-aae9-239dcd4a1752",
   "metadata": {},
   "outputs": [],
   "source": []
  },
  {
   "cell_type": "code",
   "execution_count": null,
   "id": "cc7bfd11-d2ab-4078-9e39-fc579141d5e1",
   "metadata": {},
   "outputs": [],
   "source": []
  },
  {
   "cell_type": "code",
   "execution_count": null,
   "id": "13e64f51-e73c-45f0-a74b-1710fbe50990",
   "metadata": {},
   "outputs": [],
   "source": []
  },
  {
   "cell_type": "code",
   "execution_count": null,
   "id": "114b44e1-ceac-445a-ae3a-00f9b0eef189",
   "metadata": {},
   "outputs": [],
   "source": []
  },
  {
   "cell_type": "code",
   "execution_count": null,
   "id": "0a1fed6b-9daf-40f6-9c8d-7b035fd007bc",
   "metadata": {},
   "outputs": [],
   "source": []
  },
  {
   "cell_type": "code",
   "execution_count": null,
   "id": "d7e034b5-43ab-4b6d-85e7-2b68c6315046",
   "metadata": {},
   "outputs": [],
   "source": []
  },
  {
   "cell_type": "code",
   "execution_count": null,
   "id": "a9c30e8a-0266-46b4-9e02-8663a8a1467f",
   "metadata": {},
   "outputs": [],
   "source": []
  }
 ],
 "metadata": {
  "kernelspec": {
   "display_name": "propor2023",
   "language": "python",
   "name": "propor2023"
  },
  "language_info": {
   "codemirror_mode": {
    "name": "ipython",
    "version": 3
   },
   "file_extension": ".py",
   "mimetype": "text/x-python",
   "name": "python",
   "nbconvert_exporter": "python",
   "pygments_lexer": "ipython3",
   "version": "3.10.12"
  }
 },
 "nbformat": 4,
 "nbformat_minor": 5
}
