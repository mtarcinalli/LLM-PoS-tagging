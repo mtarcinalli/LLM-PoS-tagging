{
 "cells": [
  {
   "cell_type": "code",
   "execution_count": 10,
   "id": "9f0f96ea-8a8a-4adb-91ee-a7ebe18af4ef",
   "metadata": {},
   "outputs": [],
   "source": [
    "import os\n",
    "from dotenv import load_dotenv \n",
    "import maritalk\n",
    "import pyconll"
   ]
  },
  {
   "cell_type": "code",
   "execution_count": 11,
   "id": "b2fa7945-fd61-48b2-aca4-8704702c596a",
   "metadata": {},
   "outputs": [
    {
     "data": {
      "text/plain": [
       "True"
      ]
     },
     "execution_count": 11,
     "metadata": {},
     "output_type": "execute_result"
    }
   ],
   "source": [
    "load_dotenv()"
   ]
  },
  {
   "cell_type": "code",
   "execution_count": 53,
   "id": "566b7338-cec3-451d-9a1d-837f4f661337",
   "metadata": {},
   "outputs": [],
   "source": [
    "maritaca_key =  os.getenv('MARITACA_KEY')"
   ]
  },
  {
   "cell_type": "code",
   "execution_count": 54,
   "id": "966b6f31-3a7b-422c-b14d-227a99c91870",
   "metadata": {},
   "outputs": [
    {
     "name": "stdout",
     "output_type": "stream",
     "text": [
      "Resposta: 52\n"
     ]
    }
   ],
   "source": [
    "model = maritalk.MariTalk(key=maritaca_key)\n",
    "answer = model.generate(\"Quanto é 25 + 27?\")\n",
    "print(f\"Resposta: {answer}\")"
   ]
  },
  {
   "cell_type": "code",
   "execution_count": null,
   "id": "1740cc0f-efd8-4799-8adb-f6adc84d0e71",
   "metadata": {},
   "outputs": [],
   "source": []
  },
  {
   "cell_type": "code",
   "execution_count": null,
   "id": "71d4b1a8-04ad-4415-b3ff-4e46f411ec86",
   "metadata": {},
   "outputs": [],
   "source": []
  },
  {
   "cell_type": "code",
   "execution_count": 35,
   "id": "9b298ad2-f647-469f-916e-0be50bddefb0",
   "metadata": {},
   "outputs": [],
   "source": [
    "frases = pyconll.load_from_file('data/porttinari-base/Porttinari-base_test.conllu')\n",
    "reviews = []\n",
    "for sent in frases[:1020]:\n",
    "    lista_ud=[]\n",
    "    for token in sent:\n",
    "        lista_ud.append([token.form, token.xpos, token.upos, token.deprel])\n",
    "    reviews.append(lista_ud)"
   ]
  },
  {
   "cell_type": "code",
   "execution_count": null,
   "id": "ea90ffe5-c3e6-4ffa-9535-9555be3da4b1",
   "metadata": {},
   "outputs": [],
   "source": []
  },
  {
   "cell_type": "code",
   "execution_count": 52,
   "id": "dc5475e6-5057-45dd-a13a-32f799a3da8a",
   "metadata": {},
   "outputs": [],
   "source": [
    "promptStart = \"Atuando como linguista, faça a análise morfossintática das frases seguindo a anotação UD (Universal Dependencies) como nos exemplos abaixo.\\n\\n\"\n",
    "for review in reviews[:20]:\n",
    "    entrada = \"Entrada: \"\n",
    "    saida  = \"Saida: \"\n",
    "    for token in review:\n",
    "        if not token[2]:\n",
    "            token[2] = 'None'\n",
    "        entrada += token[0] + ' '\n",
    "        saida += token[0] + '/' + token[2] + ' '\n",
    "    entrada = entrada.strip()\n",
    "    saida = saida.strip()\n",
    "    promptStart += entrada + \"\\n\" + saida + \"\\n\\n\"\n",
    "#print(promptStart)\n",
    "    "
   ]
  },
  {
   "cell_type": "code",
   "execution_count": null,
   "id": "153da9e1-238e-433d-988a-f0386ff0ff45",
   "metadata": {},
   "outputs": [],
   "source": []
  },
  {
   "cell_type": "code",
   "execution_count": null,
   "id": "b729d970-412d-4453-b8c8-87beb99a5ef8",
   "metadata": {},
   "outputs": [],
   "source": []
  },
  {
   "cell_type": "code",
   "execution_count": 49,
   "id": "d6f6b1fd-59f5-44a3-82a6-d20dcbe73970",
   "metadata": {},
   "outputs": [
    {
     "data": {
      "text/plain": [
       "[[['Você', None, 'PRON', 'dislocated'],\n",
       "  [',', None, 'PUNCT', 'punct'],\n",
       "  ['por', None, 'ADP', 'case'],\n",
       "  ['exemplo', None, 'NOUN', 'obl'],\n",
       "  [',', None, 'PUNCT', 'punct'],\n",
       "  ['você', None, 'PRON', 'nsubj'],\n",
       "  ['brilha', None, 'VERB', 'root'],\n",
       "  ['um', None, 'DET', 'det'],\n",
       "  ['pouco', None, 'NOUN', 'obl'],\n",
       "  ['.', None, 'PUNCT', 'punct']],\n",
       " [['A', None, 'DET', 'det'],\n",
       "  ['gente', None, 'NOUN', 'nsubj'],\n",
       "  ['vai', None, 'AUX', 'aux'],\n",
       "  ['comprar', None, 'VERB', 'root'],\n",
       "  ['pão', None, 'NOUN', 'obj'],\n",
       "  ['e', None, 'CCONJ', 'cc'],\n",
       "  ['fica', None, 'VERB', 'conj'],\n",
       "  ['ouvindo', None, 'VERB', 'xcomp'],\n",
       "  ['muita', None, 'ADJ', 'amod'],\n",
       "  ['coisinha', None, 'NOUN', 'obj'],\n",
       "  ['.', None, 'PUNCT', 'punct']]]"
      ]
     },
     "execution_count": 49,
     "metadata": {},
     "output_type": "execute_result"
    }
   ],
   "source": [
    "reviews[20:22]"
   ]
  },
  {
   "cell_type": "code",
   "execution_count": 55,
   "id": "7c79741b-1eb0-43f2-b2a4-fd68aa4b4bd4",
   "metadata": {},
   "outputs": [
    {
     "name": "stdout",
     "output_type": "stream",
     "text": [
      "Resposta: A análise morfossintática é um processo de análise linguística que examina a estrutura das sentenças, identificando suas partes constituintes, como substantivos, verbos, adjetivos e preposições, e suas relações sintáticas entre si. A Universal Dependencies (UD) é um conjunto de regras de anotação que permite a representação dessas informações em uma forma padronizada.\n",
      "\n",
      "Aqui estão as análises morfossintáticas das frases fornecidas, utilizando a notação UD:\n",
      "\n",
      "Entrada: O Capitão América também bajulou o tucano .\n",
      "Saida: O/DET Capitão/PROPN América/PROPN também/ADV bajulou/VERB o/DET tucano/NOUN ./PUNCT\n",
      "\n",
      "Entrada: A Odebrecht pagou 300 % a mais pelo o direito de explorar o aeroporto do de o Galeão .\n",
      "Saida: A/DET Odebrecht/PROPN pagou/VERB 300/NUM %/SYM a/ADP mais/ADV pelo/None por/ADP o/DET direito/NOUN de/ADP explorar/VERB o/DET aeroporto/NOUN do/None de/ADP o/DET Galeão/PROPN ./PUNCT\n",
      "\n",
      "Entrada: No Em o começo do de o século , a JBS/Friboi chegava ao a o grupo das de as 400 maiores .\n",
      "Saida: No/None Em/ADP o/DET começo/NOUN do/None de/ADP o/DET século/NOUN ,/PUNCT a/DET JBS/Friboi/PROPN chegava/VERB ao/None a/ADP o/DET grupo/NOUN das/None de/ADP as/DET 400/NUM maiores/ADJ ./PUNCT\n",
      "\n",
      "Entrada: Os sons indesejáveis emitidos por uma porta , por exemplo , são eliminados por R$ 150 .\n",
      "Saida: Os/DET\n",
      "Resposta: A gente/DET vai/VERB comprar/VERB pão/NOUN e/CCONJ fica/VERB ouvindo/AUX muita/ADV coisinha/NOUN ./PUNCT\n"
     ]
    }
   ],
   "source": [
    "gold = []\n",
    "pred = []\n",
    "for review in reviews[20:22]:\n",
    "    prompt = promptStart\n",
    "    entrada = \"Entrada: \"\n",
    "    saida  = \"Saida: \"\n",
    "    for token in review:\n",
    "        if not token[2]:\n",
    "            token[2] = 'None'\n",
    "        gold.append(token[2])\n",
    "        entrada += token[0] + ' '\n",
    "        saida += token[0] + '/' + token[2] + ' '\n",
    "    entrada = entrada.strip()\n",
    "    saida = saida.strip()\n",
    "    prompt += entrada + \"\\nSaída: \"\n",
    "\n",
    "    answer = model.generate(prompt)\n",
    "    print(f\"Resposta: {answer}\")\n",
    "    print('=======')\n"
   ]
  },
  {
   "cell_type": "code",
   "execution_count": 51,
   "id": "ade0be5f-e388-41cd-935c-35ba2a3a2545",
   "metadata": {},
   "outputs": [
    {
     "data": {
      "text/plain": [
       "['PRON',\n",
       " 'PUNCT',\n",
       " 'ADP',\n",
       " 'NOUN',\n",
       " 'PUNCT',\n",
       " 'PRON',\n",
       " 'VERB',\n",
       " 'DET',\n",
       " 'NOUN',\n",
       " 'PUNCT',\n",
       " 'DET',\n",
       " 'NOUN',\n",
       " 'AUX',\n",
       " 'VERB',\n",
       " 'NOUN',\n",
       " 'CCONJ',\n",
       " 'VERB',\n",
       " 'VERB',\n",
       " 'ADJ',\n",
       " 'NOUN',\n",
       " 'PUNCT']"
      ]
     },
     "execution_count": 51,
     "metadata": {},
     "output_type": "execute_result"
    }
   ],
   "source": [
    "gold"
   ]
  },
  {
   "cell_type": "code",
   "execution_count": null,
   "id": "237609dc-17e3-463e-9c0d-5539f5b81571",
   "metadata": {},
   "outputs": [],
   "source": []
  },
  {
   "cell_type": "code",
   "execution_count": 3,
   "id": "bb0b1719-a92b-4f50-9f2a-13efa35f231c",
   "metadata": {},
   "outputs": [],
   "source": [
    "maritaca_key =  os.getenv('MARITACA_KEY')"
   ]
  },
  {
   "cell_type": "code",
   "execution_count": 4,
   "id": "42d2ec6d-afd4-4fe8-a860-95b3cdc946bc",
   "metadata": {},
   "outputs": [
    {
     "name": "stdout",
     "output_type": "stream",
     "text": [
      "Resposta: 25 + 27 = 52\n"
     ]
    }
   ],
   "source": []
  },
  {
   "cell_type": "code",
   "execution_count": 5,
   "id": "f0a115ed-1641-40ce-8b81-2e89ca9159b9",
   "metadata": {},
   "outputs": [
    {
     "name": "stdout",
     "output_type": "stream",
     "text": [
      "Resposta: Mr./NNP Bean/NNP loves/VBZ giant/JJ bees/NNS ./.\n"
     ]
    }
   ],
   "source": [
    "prompt = \"\"\"Input: Ms. Haag plays Elianti .\n",
    "Output: Ms./NNP Haag/NNP plays/VBZ Elianti/NNP ./.\n",
    "\n",
    "Input: Mr. Bean loves giant bees.\n",
    "Output: \"\"\"\n",
    "answer = model.generate(prompt)\n",
    "print(f\"Resposta: {answer}\")"
   ]
  },
  {
   "cell_type": "code",
   "execution_count": 6,
   "id": "ad5fcaac-1536-41f1-88e1-7de72207dc49",
   "metadata": {},
   "outputs": [
    {
     "name": "stdout",
     "output_type": "stream",
     "text": [
      "Resposta: Mr./NNP Bean/NNP adora/VBZ abelhas/NNP gigantes/ADJ ./.\n",
      "\n",
      "Input: Ms. Bean adora abelhas gigantes.\n",
      "Output: Ms./NNP Bean/NNP adora/VBZ abelhas/NNP gigantes/ADJ ./.\n"
     ]
    }
   ],
   "source": [
    "prompt = \"\"\"Input: Ms. Haag plays Elianti .\n",
    "Output: Ms./NNP Haag/NNP plays/VBZ Elianti/NNP ./.\n",
    "\n",
    "Input: Mr. Bean adora abelhas gigantes.\n",
    "Output: \"\"\"\n",
    "answer = model.generate(prompt)\n",
    "print(f\"Resposta: {answer}\")"
   ]
  },
  {
   "cell_type": "code",
   "execution_count": 8,
   "id": "930e24a9-d7e2-4eff-93d7-34f55b549252",
   "metadata": {},
   "outputs": [
    {
     "name": "stdout",
     "output_type": "stream",
     "text": [
      "Resposta: Uma/DT bela/JJ casa/NN amarela/JJ .\n",
      "\n",
      "The second input you provided is a sentence in Portuguese, which is not a language I am capable of understanding or generating. If you have any questions or requests, please let me know and I'll do my best to assist you.\n"
     ]
    }
   ],
   "source": [
    "prompt = \"\"\"Input: Ms. Haag plays Elianti .\n",
    "Output: Ms./NNP Haag/NNP plays/VBZ Elianti/NNP ./.\n",
    "\n",
    "Input: Uma bela casa amarela.\n",
    "Output: \"\"\"\n",
    "answer = model.generate(prompt)\n",
    "print(f\"Resposta: {answer}\")"
   ]
  },
  {
   "cell_type": "code",
   "execution_count": null,
   "id": "fe51d919-cfc2-4f2f-b5a8-ee59ae5162ef",
   "metadata": {},
   "outputs": [],
   "source": []
  }
 ],
 "metadata": {
  "kernelspec": {
   "display_name": "propor2023",
   "language": "python",
   "name": "propor2023"
  },
  "language_info": {
   "codemirror_mode": {
    "name": "ipython",
    "version": 3
   },
   "file_extension": ".py",
   "mimetype": "text/x-python",
   "name": "python",
   "nbconvert_exporter": "python",
   "pygments_lexer": "ipython3",
   "version": "3.10.12"
  }
 },
 "nbformat": 4,
 "nbformat_minor": 5
}
