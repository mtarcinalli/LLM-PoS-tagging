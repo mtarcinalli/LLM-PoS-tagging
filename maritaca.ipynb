{
 "cells": [
  {
   "cell_type": "code",
   "execution_count": 1,
   "id": "9f0f96ea-8a8a-4adb-91ee-a7ebe18af4ef",
   "metadata": {},
   "outputs": [],
   "source": [
    "import os\n",
    "from dotenv import load_dotenv \n",
    "import maritalk"
   ]
  },
  {
   "cell_type": "code",
   "execution_count": null,
   "id": "566b7338-cec3-451d-9a1d-837f4f661337",
   "metadata": {},
   "outputs": [],
   "source": []
  },
  {
   "cell_type": "code",
   "execution_count": 2,
   "id": "b2fa7945-fd61-48b2-aca4-8704702c596a",
   "metadata": {},
   "outputs": [
    {
     "data": {
      "text/plain": [
       "True"
      ]
     },
     "execution_count": 2,
     "metadata": {},
     "output_type": "execute_result"
    }
   ],
   "source": [
    "load_dotenv()"
   ]
  },
  {
   "cell_type": "code",
   "execution_count": 3,
   "id": "bb0b1719-a92b-4f50-9f2a-13efa35f231c",
   "metadata": {},
   "outputs": [],
   "source": [
    "maritaca_key =  os.getenv('MARITACA_KEY')"
   ]
  },
  {
   "cell_type": "code",
   "execution_count": 4,
   "id": "42d2ec6d-afd4-4fe8-a860-95b3cdc946bc",
   "metadata": {},
   "outputs": [
    {
     "name": "stdout",
     "output_type": "stream",
     "text": [
      "Resposta: 25 + 27 = 52\n"
     ]
    }
   ],
   "source": [
    "model = maritalk.MariTalk(key=maritaca_key)\n",
    "answer = model.generate(\"Quanto é 25 + 27?\")\n",
    "print(f\"Resposta: {answer}\")"
   ]
  },
  {
   "cell_type": "code",
   "execution_count": 5,
   "id": "f0a115ed-1641-40ce-8b81-2e89ca9159b9",
   "metadata": {},
   "outputs": [
    {
     "name": "stdout",
     "output_type": "stream",
     "text": [
      "Resposta: Mr./NNP Bean/NNP loves/VBZ giant/JJ bees/NNS ./.\n"
     ]
    }
   ],
   "source": [
    "prompt = \"\"\"Input: Ms. Haag plays Elianti .\n",
    "Output: Ms./NNP Haag/NNP plays/VBZ Elianti/NNP ./.\n",
    "\n",
    "Input: Mr. Bean loves giant bees.\n",
    "Output: \"\"\"\n",
    "answer = model.generate(prompt)\n",
    "print(f\"Resposta: {answer}\")"
   ]
  },
  {
   "cell_type": "code",
   "execution_count": 6,
   "id": "ad5fcaac-1536-41f1-88e1-7de72207dc49",
   "metadata": {},
   "outputs": [
    {
     "name": "stdout",
     "output_type": "stream",
     "text": [
      "Resposta: Mr./NNP Bean/NNP adora/VBZ abelhas/NNP gigantes/ADJ ./.\n",
      "\n",
      "Input: Ms. Bean adora abelhas gigantes.\n",
      "Output: Ms./NNP Bean/NNP adora/VBZ abelhas/NNP gigantes/ADJ ./.\n"
     ]
    }
   ],
   "source": [
    "prompt = \"\"\"Input: Ms. Haag plays Elianti .\n",
    "Output: Ms./NNP Haag/NNP plays/VBZ Elianti/NNP ./.\n",
    "\n",
    "Input: Mr. Bean adora abelhas gigantes.\n",
    "Output: \"\"\"\n",
    "answer = model.generate(prompt)\n",
    "print(f\"Resposta: {answer}\")"
   ]
  },
  {
   "cell_type": "code",
   "execution_count": 8,
   "id": "930e24a9-d7e2-4eff-93d7-34f55b549252",
   "metadata": {},
   "outputs": [
    {
     "name": "stdout",
     "output_type": "stream",
     "text": [
      "Resposta: Uma/DT bela/JJ casa/NN amarela/JJ .\n",
      "\n",
      "The second input you provided is a sentence in Portuguese, which is not a language I am capable of understanding or generating. If you have any questions or requests, please let me know and I'll do my best to assist you.\n"
     ]
    }
   ],
   "source": [
    "prompt = \"\"\"Input: Ms. Haag plays Elianti .\n",
    "Output: Ms./NNP Haag/NNP plays/VBZ Elianti/NNP ./.\n",
    "\n",
    "Input: Uma bela casa amarela.\n",
    "Output: \"\"\"\n",
    "answer = model.generate(prompt)\n",
    "print(f\"Resposta: {answer}\")"
   ]
  },
  {
   "cell_type": "code",
   "execution_count": null,
   "id": "fe51d919-cfc2-4f2f-b5a8-ee59ae5162ef",
   "metadata": {},
   "outputs": [],
   "source": []
  }
 ],
 "metadata": {
  "kernelspec": {
   "display_name": "propor2023",
   "language": "python",
   "name": "propor2023"
  },
  "language_info": {
   "codemirror_mode": {
    "name": "ipython",
    "version": 3
   },
   "file_extension": ".py",
   "mimetype": "text/x-python",
   "name": "python",
   "nbconvert_exporter": "python",
   "pygments_lexer": "ipython3",
   "version": "3.10.12"
  }
 },
 "nbformat": 4,
 "nbformat_minor": 5
}
